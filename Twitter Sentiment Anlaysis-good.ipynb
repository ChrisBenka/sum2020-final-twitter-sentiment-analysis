{
 "cells": [
  {
   "cell_type": "code",
   "execution_count": 31,
   "metadata": {},
   "outputs": [],
   "source": [
    "import numpy as np\n",
    "import pandas as pd"
   ]
  },
  {
   "cell_type": "code",
   "execution_count": 32,
   "metadata": {},
   "outputs": [],
   "source": [
    "df = pd.read_csv(\"train_tweets.csv\",index_col = 'id',encoding='utf-8')\n",
    "test_df = pd.read_csv(\"test_tweets.csv\",index_col = 'id',encoding='utf-8')"
   ]
  },
  {
   "cell_type": "code",
   "execution_count": 33,
   "metadata": {},
   "outputs": [
    {
     "data": {
      "text/html": [
       "<div>\n",
       "<style scoped>\n",
       "    .dataframe tbody tr th:only-of-type {\n",
       "        vertical-align: middle;\n",
       "    }\n",
       "\n",
       "    .dataframe tbody tr th {\n",
       "        vertical-align: top;\n",
       "    }\n",
       "\n",
       "    .dataframe thead th {\n",
       "        text-align: right;\n",
       "    }\n",
       "</style>\n",
       "<table border=\"1\" class=\"dataframe\">\n",
       "  <thead>\n",
       "    <tr style=\"text-align: right;\">\n",
       "      <th></th>\n",
       "      <th>label</th>\n",
       "      <th>tweet</th>\n",
       "    </tr>\n",
       "    <tr>\n",
       "      <th>id</th>\n",
       "      <th></th>\n",
       "      <th></th>\n",
       "    </tr>\n",
       "  </thead>\n",
       "  <tbody>\n",
       "    <tr>\n",
       "      <th>1</th>\n",
       "      <td>0</td>\n",
       "      <td>@user when a father is dysfunctional and is s...</td>\n",
       "    </tr>\n",
       "    <tr>\n",
       "      <th>2</th>\n",
       "      <td>0</td>\n",
       "      <td>@user @user thanks for #lyft credit i can't us...</td>\n",
       "    </tr>\n",
       "    <tr>\n",
       "      <th>3</th>\n",
       "      <td>0</td>\n",
       "      <td>bihday your majesty</td>\n",
       "    </tr>\n",
       "    <tr>\n",
       "      <th>4</th>\n",
       "      <td>0</td>\n",
       "      <td>#model   i love u take with u all the time in ...</td>\n",
       "    </tr>\n",
       "    <tr>\n",
       "      <th>5</th>\n",
       "      <td>0</td>\n",
       "      <td>factsguide: society now    #motivation</td>\n",
       "    </tr>\n",
       "  </tbody>\n",
       "</table>\n",
       "</div>"
      ],
      "text/plain": [
       "    label                                              tweet\n",
       "id                                                          \n",
       "1       0   @user when a father is dysfunctional and is s...\n",
       "2       0  @user @user thanks for #lyft credit i can't us...\n",
       "3       0                                bihday your majesty\n",
       "4       0  #model   i love u take with u all the time in ...\n",
       "5       0             factsguide: society now    #motivation"
      ]
     },
     "execution_count": 33,
     "metadata": {},
     "output_type": "execute_result"
    }
   ],
   "source": [
    "df.head()"
   ]
  },
  {
   "cell_type": "code",
   "execution_count": 34,
   "metadata": {},
   "outputs": [
    {
     "data": {
      "text/plain": [
       "0    0.929854\n",
       "1    0.070146\n",
       "Name: label, dtype: float64"
      ]
     },
     "execution_count": 34,
     "metadata": {},
     "output_type": "execute_result"
    }
   ],
   "source": [
    "df['label'].value_counts(normalize=True)"
   ]
  },
  {
   "cell_type": "markdown",
   "metadata": {},
   "source": [
    "# Load Data"
   ]
  },
  {
   "cell_type": "code",
   "execution_count": 35,
   "metadata": {},
   "outputs": [],
   "source": [
    "def encode_to_utf8(s):\n",
    "    return s.encode('ascii', errors='ignore').decode(\"utf-8\")"
   ]
  },
  {
   "cell_type": "code",
   "execution_count": 36,
   "metadata": {},
   "outputs": [],
   "source": [
    "df['tweet'] = df['tweet'].apply(encode_to_utf8)\n",
    "test_df['tweet'] = test_df['tweet'].apply(encode_to_utf8)"
   ]
  },
  {
   "cell_type": "code",
   "execution_count": 37,
   "metadata": {},
   "outputs": [],
   "source": [
    "## lowercase ##\n",
    "df['tweet'] = df.apply(lambda x: x['tweet'].lower(),axis=1)\n",
    "test_df['tweet'] = test_df.apply(lambda x: x['tweet'].lower(),axis=1)\n",
    "\n",
    "## remove @user, &amp ##\n",
    "df['tweet'] = df['tweet'].apply(lambda x: x.replace('@user',''))\n",
    "df['tweet'] = df['tweet'].apply(lambda x: x.replace('&amp',''))\n",
    "\n",
    "test_df['tweet'] = test_df['tweet'].apply(lambda x: x.replace('@user',''))\n",
    "test_df['tweet'] = test_df['tweet'].apply(lambda x: x.replace('&amp',''))"
   ]
  },
  {
   "cell_type": "code",
   "execution_count": 38,
   "metadata": {},
   "outputs": [],
   "source": [
    "hate_tweet = df['label'] == 1\n",
    "not_hate_tweet = df['label'] == 0\n",
    "hate_tweet_df = df[hate_tweet]\n",
    "not_hate_tweet_df = df[not_hate_tweet]"
   ]
  },
  {
   "cell_type": "code",
   "execution_count": 39,
   "metadata": {},
   "outputs": [],
   "source": [
    "## look at hashtags ##\n",
    "#hashtag exploration taken from PRATEEK JOSHI's Comprehensive Hands on Guide to Twitter Sentiment Analysis with dataset and code\n",
    "import re\n",
    "\n",
    "def find_hastags(x):\n",
    "    hashtags = []\n",
    "    for i in x:\n",
    "        ht = re.findall(r\"#(\\w+)\",i)\n",
    "        hashtags.append(ht)\n",
    "    return hashtags"
   ]
  },
  {
   "cell_type": "code",
   "execution_count": 40,
   "metadata": {},
   "outputs": [],
   "source": [
    "hate_hashtags = find_hastags(hate_tweet_df['tweet'])\n",
    "hate_hashtags = sum(hate_hashtags,[])\n",
    "\n",
    "reg_hashtags = find_hastags(not_hate_tweet_df['tweet'])\n",
    "reg_hashtags = sum(reg_hashtags,[])"
   ]
  },
  {
   "cell_type": "code",
   "execution_count": 127,
   "metadata": {},
   "outputs": [
    {
     "data": {
      "image/png": "[encoded data removed]",
      "text/plain": [
       "<Figure size 1152x360 with 1 Axes>"
      ]
     },
     "metadata": {
      "needs_background": "light"
     },
     "output_type": "display_data"
    }
   ],
   "source": [
    "import nltk\n",
    "from matplotlib import pyplot as plt\n",
    "import seaborn as sns\n",
    "a = nltk.FreqDist(hate_hashtags)\n",
    "d = pd.DataFrame({'Hashtag': list(a.keys()),\n",
    "                  'Count': list(a.values())})\n",
    "# selecting top 10 most frequent hashtags     \n",
    "d = d.nlargest(columns=\"Count\", n = 10) \n",
    "plt.figure(figsize=(16,5))\n",
    "ax = sns.barplot(data=d, x= \"Count\", y = \"Hashtag\")\n",
    "ax.set(ylabel = 'Hashtag')\n",
    "plt.show()"
   ]
  },
  {
   "cell_type": "code",
   "execution_count": 128,
   "metadata": {},
   "outputs": [
    {
     "data": {
      "image/png": "[encoded data removed]",
      "text/plain": [
       "<Figure size 1152x360 with 1 Axes>"
      ]
     },
     "metadata": {
      "needs_background": "light"
     },
     "output_type": "display_data"
    }
   ],
   "source": [
    "import nltk\n",
    "from matplotlib import pyplot as plt\n",
    "import seaborn as sns\n",
    "a = nltk.FreqDist(reg_hashtags)\n",
    "d = pd.DataFrame({'Hashtag': list(a.keys()),\n",
    "                  'Count': list(a.values())})\n",
    "# selecting top 10 most frequent hashtags     \n",
    "d = d.nlargest(columns=\"Count\", n = 10) \n",
    "plt.figure(figsize=(16,5))\n",
    "ax = sns.barplot(data=d, x= \"Count\", y = \"Hashtag\")\n",
    "ax.set(ylabel = 'Hashtag')\n",
    "plt.show()"
   ]
  },
  {
   "cell_type": "code",
   "execution_count": 43,
   "metadata": {},
   "outputs": [],
   "source": [
    "## remove punctuation ## \n",
    "from string import punctuation\n",
    "\n",
    "# punc = punctuation.replace('#','')\n",
    "\n",
    "def remove_punctuation(s):\n",
    "    return ''.join([c for c in s if c not in punctuation])"
   ]
  },
  {
   "cell_type": "code",
   "execution_count": 44,
   "metadata": {},
   "outputs": [],
   "source": [
    "df['tweet'] = df['tweet'].apply(remove_punctuation)\n",
    "test_df['tweet'] = test_df['tweet'].apply(remove_punctuation)"
   ]
  },
  {
   "cell_type": "code",
   "execution_count": 45,
   "metadata": {},
   "outputs": [
    {
     "data": {
      "text/html": [
       "<div>\n",
       "<style scoped>\n",
       "    .dataframe tbody tr th:only-of-type {\n",
       "        vertical-align: middle;\n",
       "    }\n",
       "\n",
       "    .dataframe tbody tr th {\n",
       "        vertical-align: top;\n",
       "    }\n",
       "\n",
       "    .dataframe thead th {\n",
       "        text-align: right;\n",
       "    }\n",
       "</style>\n",
       "<table border=\"1\" class=\"dataframe\">\n",
       "  <thead>\n",
       "    <tr style=\"text-align: right;\">\n",
       "      <th></th>\n",
       "      <th>label</th>\n",
       "      <th>tweet</th>\n",
       "    </tr>\n",
       "    <tr>\n",
       "      <th>id</th>\n",
       "      <th></th>\n",
       "      <th></th>\n",
       "    </tr>\n",
       "  </thead>\n",
       "  <tbody>\n",
       "    <tr>\n",
       "      <th>1</th>\n",
       "      <td>0</td>\n",
       "      <td>when a father is dysfunctional and is so sel...</td>\n",
       "    </tr>\n",
       "    <tr>\n",
       "      <th>2</th>\n",
       "      <td>0</td>\n",
       "      <td>thanks for lyft credit i cant use cause they...</td>\n",
       "    </tr>\n",
       "    <tr>\n",
       "      <th>3</th>\n",
       "      <td>0</td>\n",
       "      <td>bihday your majesty</td>\n",
       "    </tr>\n",
       "    <tr>\n",
       "      <th>4</th>\n",
       "      <td>0</td>\n",
       "      <td>model   i love u take with u all the time in u...</td>\n",
       "    </tr>\n",
       "    <tr>\n",
       "      <th>5</th>\n",
       "      <td>0</td>\n",
       "      <td>factsguide society now    motivation</td>\n",
       "    </tr>\n",
       "  </tbody>\n",
       "</table>\n",
       "</div>"
      ],
      "text/plain": [
       "    label                                              tweet\n",
       "id                                                          \n",
       "1       0    when a father is dysfunctional and is so sel...\n",
       "2       0    thanks for lyft credit i cant use cause they...\n",
       "3       0                                bihday your majesty\n",
       "4       0  model   i love u take with u all the time in u...\n",
       "5       0               factsguide society now    motivation"
      ]
     },
     "execution_count": 45,
     "metadata": {},
     "output_type": "execute_result"
    }
   ],
   "source": [
    "df.head()"
   ]
  },
  {
   "cell_type": "code",
   "execution_count": 46,
   "metadata": {},
   "outputs": [],
   "source": [
    "## remove stop words ##\n",
    "from nltk.corpus import stopwords\n",
    "stop = stopwords.words('english')\n",
    "df['tweet'] =  df['tweet'].apply(lambda x: ' '.join([word for word in x.split() if word not in (stop)]))\n",
    "test_df['tweet'] =  test_df['tweet'].apply(lambda x: ' '.join([word for word in x.split() if word not in (stop)]))"
   ]
  },
  {
   "cell_type": "code",
   "execution_count": 47,
   "metadata": {},
   "outputs": [],
   "source": [
    "##remove words <= 2 chars ##\n",
    "df['tweet'] = df['tweet'].apply(lambda x: ' '.join([w for w in x.split() if len(w)>2]))\n",
    "test_df['tweet'] = test_df['tweet'].apply(lambda x: ' '.join([w for w in x.split() if len(w)>2]))"
   ]
  },
  {
   "cell_type": "code",
   "execution_count": 48,
   "metadata": {},
   "outputs": [],
   "source": [
    "from nltk.stem import PorterStemmer \n",
    "ps = PorterStemmer()\n",
    "\n",
    "def stem_tweet(s):\n",
    "    tokens = s.split()\n",
    "    stemmed_toks = [ps.stem(token) for token in tokens]\n",
    "    return ' '.join(stemmed_toks)"
   ]
  },
  {
   "cell_type": "code",
   "execution_count": 49,
   "metadata": {},
   "outputs": [],
   "source": [
    "stem = True"
   ]
  },
  {
   "cell_type": "code",
   "execution_count": 50,
   "metadata": {},
   "outputs": [],
   "source": [
    "df['tweet'] = df['tweet'].apply(stem_tweet)\n",
    "test_df['tweet'] = test_df['tweet'].apply(stem_tweet)"
   ]
  },
  {
   "cell_type": "code",
   "execution_count": 51,
   "metadata": {},
   "outputs": [
    {
     "data": {
      "text/html": [
       "<div>\n",
       "<style scoped>\n",
       "    .dataframe tbody tr th:only-of-type {\n",
       "        vertical-align: middle;\n",
       "    }\n",
       "\n",
       "    .dataframe tbody tr th {\n",
       "        vertical-align: top;\n",
       "    }\n",
       "\n",
       "    .dataframe thead th {\n",
       "        text-align: right;\n",
       "    }\n",
       "</style>\n",
       "<table border=\"1\" class=\"dataframe\">\n",
       "  <thead>\n",
       "    <tr style=\"text-align: right;\">\n",
       "      <th></th>\n",
       "      <th>label</th>\n",
       "      <th>tweet</th>\n",
       "    </tr>\n",
       "    <tr>\n",
       "      <th>id</th>\n",
       "      <th></th>\n",
       "      <th></th>\n",
       "    </tr>\n",
       "  </thead>\n",
       "  <tbody>\n",
       "    <tr>\n",
       "      <th>1</th>\n",
       "      <td>0</td>\n",
       "      <td>father dysfunct selfish drag kid dysfunct run</td>\n",
       "    </tr>\n",
       "    <tr>\n",
       "      <th>2</th>\n",
       "      <td>0</td>\n",
       "      <td>thank lyft credit cant use caus dont offer whe...</td>\n",
       "    </tr>\n",
       "    <tr>\n",
       "      <th>3</th>\n",
       "      <td>0</td>\n",
       "      <td>bihday majesti</td>\n",
       "    </tr>\n",
       "    <tr>\n",
       "      <th>4</th>\n",
       "      <td>0</td>\n",
       "      <td>model love take time</td>\n",
       "    </tr>\n",
       "    <tr>\n",
       "      <th>5</th>\n",
       "      <td>0</td>\n",
       "      <td>factsguid societi motiv</td>\n",
       "    </tr>\n",
       "  </tbody>\n",
       "</table>\n",
       "</div>"
      ],
      "text/plain": [
       "    label                                              tweet\n",
       "id                                                          \n",
       "1       0      father dysfunct selfish drag kid dysfunct run\n",
       "2       0  thank lyft credit cant use caus dont offer whe...\n",
       "3       0                                     bihday majesti\n",
       "4       0                               model love take time\n",
       "5       0                            factsguid societi motiv"
      ]
     },
     "execution_count": 51,
     "metadata": {},
     "output_type": "execute_result"
    }
   ],
   "source": [
    "df.head()"
   ]
  },
  {
   "cell_type": "code",
   "execution_count": 52,
   "metadata": {},
   "outputs": [
    {
     "name": "stdout",
     "output_type": "stream",
     "text": [
      "122\n",
      "111\n"
     ]
    }
   ],
   "source": [
    "print(df.tweet.str.len().max())\n",
    "print(test_df.tweet.str.len().max())"
   ]
  },
  {
   "cell_type": "code",
   "execution_count": 53,
   "metadata": {},
   "outputs": [],
   "source": [
    "hate_tweet = df['label'] == 1\n",
    "not_hate_tweet = df['label'] == 0"
   ]
  },
  {
   "cell_type": "code",
   "execution_count": 54,
   "metadata": {},
   "outputs": [],
   "source": [
    "hate_tweet_df = df[hate_tweet]\n",
    "not_hate_tweet_df = df[not_hate_tweet]"
   ]
  },
  {
   "cell_type": "code",
   "execution_count": 55,
   "metadata": {},
   "outputs": [],
   "source": [
    "from collections import Counter\n",
    "most_common_hate = Counter(\" \".join(hate_tweet_df[\"tweet\"]).split()).most_common(20)\n",
    "most_common = Counter(\" \".join(not_hate_tweet_df[\"tweet\"]).split()).most_common(20)"
   ]
  },
  {
   "cell_type": "code",
   "execution_count": 56,
   "metadata": {},
   "outputs": [
    {
     "data": {
      "image/png": "[encoded data removed]",
      "text/plain": [
       "<Figure size 432x288 with 1 Axes>"
      ]
     },
     "metadata": {
      "needs_background": "light"
     },
     "output_type": "display_data"
    }
   ],
   "source": [
    "from matplotlib import pyplot as plt\n",
    "x = np.array([data[0] for data in most_common_hate])\n",
    "y = np.array([data[1] for data in most_common_hate])\n",
    "x=[data[0] for data in most_common_hate]\n",
    "fig, ax = plt.subplots()\n",
    "# Example data\n",
    "y_pos = np.arange(len(x))\n",
    "ax.barh(y_pos, y, align='center')\n",
    "ax.set_yticks(y_pos)\n",
    "ax.set_yticklabels(x)\n",
    "ax.invert_yaxis()  # labels read top-to-bottom\n",
    "ax.set_xlabel('Count')\n",
    "ax.set_title('Word Count (Hate Tweet)')\n",
    "\n",
    "plt.show()"
   ]
  },
  {
   "cell_type": "code",
   "execution_count": 57,
   "metadata": {},
   "outputs": [
    {
     "data": {
      "image/png": "[encoded data removed]",
      "text/plain": [
       "<Figure size 432x288 with 1 Axes>"
      ]
     },
     "metadata": {
      "needs_background": "light"
     },
     "output_type": "display_data"
    }
   ],
   "source": [
    "from matplotlib import pyplot as plt\n",
    "x = np.array([data[0] for data in most_common])\n",
    "y = np.array([data[1] for data in most_common])\n",
    "x=[data[0] for data in most_common]\n",
    "fig, ax = plt.subplots()\n",
    "# Example data\n",
    "y_pos = np.arange(len(x))\n",
    "ax.barh(y_pos, y, align='center')\n",
    "ax.set_yticks(y_pos)\n",
    "ax.set_yticklabels(x)\n",
    "ax.invert_yaxis()  # labels read top-to-bottom\n",
    "ax.set_xlabel('Count')\n",
    "ax.set_title('Word Count (Not Hate Tweet) ')\n",
    "\n",
    "plt.show()"
   ]
  },
  {
   "cell_type": "code",
   "execution_count": 58,
   "metadata": {},
   "outputs": [],
   "source": [
    "from tensorflow.keras.preprocessing.text import Tokenizer\n",
    "from tensorflow.keras.preprocessing.sequence import pad_sequences"
   ]
  },
  {
   "cell_type": "code",
   "execution_count": 59,
   "metadata": {},
   "outputs": [],
   "source": [
    "## TOKENIZE ##\n",
    "tweet = df.tweet.values\n",
    "tokenizer = Tokenizer(num_words=3500)\n",
    "tokenizer.fit_on_texts(tweet)\n",
    "\n",
    "encoded_tweets = tokenizer.texts_to_sequences(tweet)"
   ]
  },
  {
   "cell_type": "code",
   "execution_count": 60,
   "metadata": {},
   "outputs": [],
   "source": [
    "padded_seqs = pad_sequences(encoded_tweets,maxlen=42)"
   ]
  },
  {
   "cell_type": "code",
   "execution_count": 61,
   "metadata": {},
   "outputs": [],
   "source": [
    "vocab_size = len(tokenizer.word_index) + 1\n",
    "sentiment_label = df.label.factorize()"
   ]
  },
  {
   "cell_type": "code",
   "execution_count": 62,
   "metadata": {},
   "outputs": [
    {
     "name": "stdout",
     "output_type": "stream",
     "text": [
      "[name: \"/device:CPU:0\"\n",
      "device_type: \"CPU\"\n",
      "memory_limit: 268435456\n",
      "locality {\n",
      "}\n",
      "incarnation: 7709710185593624\n",
      ", name: \"/device:XLA_CPU:0\"\n",
      "device_type: \"XLA_CPU\"\n",
      "memory_limit: 17179869184\n",
      "locality {\n",
      "}\n",
      "incarnation: 17856606543445010750\n",
      "physical_device_desc: \"device: XLA_CPU device\"\n",
      ", name: \"/device:GPU:0\"\n",
      "device_type: \"GPU\"\n",
      "memory_limit: 9938670720\n",
      "locality {\n",
      "  bus_id: 1\n",
      "  links {\n",
      "  }\n",
      "}\n",
      "incarnation: 10109452070877587811\n",
      "physical_device_desc: \"device: 0, name: GeForce RTX 2080 Ti, pci bus id: 0000:65:00.0, compute capability: 7.5\"\n",
      ", name: \"/device:XLA_GPU:0\"\n",
      "device_type: \"XLA_GPU\"\n",
      "memory_limit: 17179869184\n",
      "locality {\n",
      "}\n",
      "incarnation: 13288497171462539070\n",
      "physical_device_desc: \"device: XLA_GPU device\"\n",
      "]\n"
     ]
    }
   ],
   "source": [
    "from tensorflow.python.client import device_lib\n",
    "print(device_lib.list_local_devices())"
   ]
  },
  {
   "cell_type": "code",
   "execution_count": 74,
   "metadata": {},
   "outputs": [
    {
     "name": "stdout",
     "output_type": "stream",
     "text": [
      "WARNING:tensorflow:Layer lstm_1 will not use cuDNN kernel since it doesn't meet the cuDNN kernel criteria. It will use generic GPU kernel as fallback when running on GPU\n",
      "Model: \"sequential_2\"\n",
      "_________________________________________________________________\n",
      "Layer (type)                 Output Shape              Param #   \n",
      "=================================================================\n",
      "embedding_2 (Embedding)      (None, 42, 42)            1452528   \n",
      "_________________________________________________________________\n",
      "dropout_4 (Dropout)          (None, 42, 42)            0         \n",
      "_________________________________________________________________\n",
      "lstm_1 (LSTM)                (None, 75)                35400     \n",
      "_________________________________________________________________\n",
      "dropout_5 (Dropout)          (None, 75)                0         \n",
      "_________________________________________________________________\n",
      "dense_3 (Dense)              (None, 1)                 76        \n",
      "=================================================================\n",
      "Total params: 1,488,004\n",
      "Trainable params: 1,488,004\n",
      "Non-trainable params: 0\n",
      "_________________________________________________________________\n",
      "None\n"
     ]
    }
   ],
   "source": [
    "from tensorflow.keras.models import Sequential\n",
    "from tensorflow.keras.layers import LSTM,Dense,Dropout\n",
    "from tensorflow.keras.layers import SpatialDropout1D\n",
    "from tensorflow.keras.layers import Embedding\n",
    "embedding_vector_length =42\n",
    "model = Sequential()\n",
    "model.add(Embedding(vocab_size, embedding_vector_length,     \n",
    "                                     input_length=42) )\n",
    "model.add(Dropout(0.20))\n",
    "model.add(LSTM(75, dropout=0.5, recurrent_dropout=0.5))\n",
    "model.add(Dropout(0.10))\n",
    "model.add(Dense(1, activation='sigmoid'))\n",
    "model.compile(loss='binary_crossentropy',optimizer='adam', \n",
    "                           metrics=['accuracy'])\n",
    "print(model.summary())"
   ]
  },
  {
   "cell_type": "code",
   "execution_count": 75,
   "metadata": {},
   "outputs": [
    {
     "name": "stdout",
     "output_type": "stream",
     "text": [
      "Epoch 1/5\n",
      "200/200 [==============================] - 24s 118ms/step - loss: 0.2480 - accuracy: 0.9306 - val_loss: 0.1390 - val_accuracy: 0.9463\n",
      "Epoch 2/5\n",
      "200/200 [==============================] - 23s 117ms/step - loss: 0.1179 - accuracy: 0.9579 - val_loss: 0.1324 - val_accuracy: 0.9528\n",
      "Epoch 3/5\n",
      "200/200 [==============================] - 23s 117ms/step - loss: 0.0939 - accuracy: 0.9669 - val_loss: 0.1227 - val_accuracy: 0.9562\n",
      "Epoch 4/5\n",
      "200/200 [==============================] - 23s 117ms/step - loss: 0.0850 - accuracy: 0.9702 - val_loss: 0.1254 - val_accuracy: 0.9557\n",
      "Epoch 5/5\n",
      "200/200 [==============================] - 24s 118ms/step - loss: 0.0775 - accuracy: 0.9723 - val_loss: 0.1303 - val_accuracy: 0.9566\n"
     ]
    }
   ],
   "source": [
    "history = model.fit(padded_seqs,sentiment_label[0],\n",
    "                  validation_split=0.25, epochs=5, batch_size=120)"
   ]
  },
  {
   "cell_type": "code",
   "execution_count": 76,
   "metadata": {},
   "outputs": [],
   "source": [
    "def my_predict(i,tweet):\n",
    "    tw = tokenizer.texts_to_sequences([tweet])\n",
    "    tw = pad_sequences(tw,maxlen=42)\n",
    "    if i%500 == 0:\n",
    "        print(\"{:2.2%}\".format(i/test_df.shape[0]))\n",
    "    return int(model.predict(tw).round().item())"
   ]
  },
  {
   "cell_type": "code",
   "execution_count": 77,
   "metadata": {},
   "outputs": [],
   "source": [
    "def generate_submission(file_name):\n",
    "    predictions = np.array([my_predict(i,tweet) for i,tweet in enumerate(test_df.tweet.values)])\n",
    "    id = test_df.index.to_numpy()\n",
    "    results_df = pd.DataFrame({'id':id,'label':predictions})\n",
    "    results_df.to_csv(file_name,index=False)"
   ]
  },
  {
   "cell_type": "code",
   "execution_count": 78,
   "metadata": {},
   "outputs": [
    {
     "name": "stdout",
     "output_type": "stream",
     "text": [
      "0.00%\n",
      "2.91%\n",
      "5.81%\n",
      "8.72%\n",
      "11.63%\n",
      "14.54%\n",
      "17.44%\n",
      "20.35%\n",
      "23.26%\n",
      "26.17%\n",
      "29.07%\n",
      "31.98%\n",
      "34.89%\n",
      "37.80%\n",
      "40.70%\n",
      "43.61%\n",
      "46.52%\n",
      "49.43%\n",
      "52.33%\n",
      "55.24%\n",
      "58.15%\n",
      "61.06%\n",
      "63.96%\n",
      "66.87%\n",
      "69.78%\n",
      "72.69%\n",
      "75.59%\n",
      "78.50%\n",
      "81.41%\n",
      "84.32%\n",
      "87.22%\n",
      "90.13%\n",
      "93.04%\n",
      "95.95%\n",
      "98.85%\n"
     ]
    }
   ],
   "source": [
    "generate_submission('seven_test_submission.csv')"
   ]
  },
  {
   "cell_type": "markdown",
   "metadata": {},
   "source": [
    "### FC NN###"
   ]
  },
  {
   "cell_type": "code",
   "execution_count": 68,
   "metadata": {},
   "outputs": [
    {
     "name": "stdout",
     "output_type": "stream",
     "text": [
      "Model: \"sequential_1\"\n",
      "_________________________________________________________________\n",
      "Layer (type)                 Output Shape              Param #   \n",
      "=================================================================\n",
      "embedding_1 (Embedding)      (None, 42, 42)            1452528   \n",
      "_________________________________________________________________\n",
      "flatten (Flatten)            (None, 1764)              0         \n",
      "_________________________________________________________________\n",
      "dropout_2 (Dropout)          (None, 1764)              0         \n",
      "_________________________________________________________________\n",
      "dense_1 (Dense)              (None, 10)                17650     \n",
      "_________________________________________________________________\n",
      "dropout_3 (Dropout)          (None, 10)                0         \n",
      "_________________________________________________________________\n",
      "dense_2 (Dense)              (None, 1)                 11        \n",
      "=================================================================\n",
      "Total params: 1,470,189\n",
      "Trainable params: 1,470,189\n",
      "Non-trainable params: 0\n",
      "_________________________________________________________________\n",
      "None\n"
     ]
    }
   ],
   "source": [
    "from tensorflow.keras.models import Sequential\n",
    "from tensorflow.keras.layers import LSTM,Dense,Dropout,Flatten\n",
    "from tensorflow.keras.layers import Embedding\n",
    "embedding_vector_length=42\n",
    "model = Sequential()\n",
    "model.add(Embedding(vocab_size, embedding_vector_length,     \n",
    "                                     input_length=42) )\n",
    "model.add(Flatten())\n",
    "model.add(Dropout(0.30))\n",
    "model.add(Dense(10,activation='relu'))\n",
    "model.add(Dropout(0.20))\n",
    "model.add(Dense(1, activation='sigmoid'))\n",
    "model.compile(loss='binary_crossentropy',optimizer='adam', \n",
    "                           metrics=['accuracy'])\n",
    "print(model.summary())"
   ]
  },
  {
   "cell_type": "code",
   "execution_count": 69,
   "metadata": {},
   "outputs": [
    {
     "name": "stdout",
     "output_type": "stream",
     "text": [
      "Epoch 1/5\n",
      "200/200 [==============================] - 2s 10ms/step - loss: 0.2633 - accuracy: 0.9259 - val_loss: 0.1724 - val_accuracy: 0.9290\n",
      "Epoch 2/5\n",
      "200/200 [==============================] - 2s 10ms/step - loss: 0.1446 - accuracy: 0.9339 - val_loss: 0.1338 - val_accuracy: 0.9524\n",
      "Epoch 3/5\n",
      "200/200 [==============================] - 2s 10ms/step - loss: 0.1032 - accuracy: 0.9629 - val_loss: 0.1285 - val_accuracy: 0.9560\n",
      "Epoch 4/5\n",
      "200/200 [==============================] - 2s 10ms/step - loss: 0.0780 - accuracy: 0.9738 - val_loss: 0.1342 - val_accuracy: 0.9567\n",
      "Epoch 5/5\n",
      "200/200 [==============================] - 2s 10ms/step - loss: 0.0619 - accuracy: 0.9797 - val_loss: 0.1418 - val_accuracy: 0.9556\n"
     ]
    }
   ],
   "source": [
    "history = model.fit(padded_seqs,sentiment_label[0],\n",
    "                  validation_split=0.25, epochs=5, batch_size=120)"
   ]
  },
  {
   "cell_type": "code",
   "execution_count": 70,
   "metadata": {},
   "outputs": [
    {
     "name": "stdout",
     "output_type": "stream",
     "text": [
      "0.00%\n",
      "2.91%\n",
      "5.81%\n",
      "8.72%\n",
      "11.63%\n",
      "14.54%\n",
      "17.44%\n",
      "20.35%\n",
      "23.26%\n",
      "26.17%\n",
      "29.07%\n",
      "31.98%\n",
      "34.89%\n",
      "37.80%\n",
      "40.70%\n",
      "43.61%\n",
      "46.52%\n",
      "49.43%\n",
      "52.33%\n",
      "55.24%\n",
      "58.15%\n",
      "61.06%\n",
      "63.96%\n",
      "66.87%\n",
      "69.78%\n",
      "72.69%\n",
      "75.59%\n",
      "78.50%\n",
      "81.41%\n",
      "84.32%\n",
      "87.22%\n",
      "90.13%\n",
      "93.04%\n",
      "95.95%\n",
      "98.85%\n"
     ]
    }
   ],
   "source": [
    "generate_submission('dense_nn.csv')"
   ]
  },
  {
   "cell_type": "code",
   "execution_count": 30,
   "metadata": {},
   "outputs": [
    {
     "data": {
      "image/png": "[encoded data removed]",
      "text/plain": [
       "<Figure size 1440x360 with 2 Axes>"
      ]
     },
     "metadata": {
      "needs_background": "light"
     },
     "output_type": "display_data"
    }
   ],
   "source": [
    "## training and validation loss for base models \n",
    "from matplotlib import pyplot as plt\n",
    "import numpy as np\n",
    "\n",
    "lstm_training_accuracies = np.array([.9299,.9585,.9658,.9707,.9733])\n",
    "lstm_validation_accuracies = np.array([.9482,.9504,.9573,.9568,.9556])\n",
    "# lstm_training_loss = np.array([.2476,.1154,.0958,.0847,.0753])\n",
    "# lstm_validation_loss = np.array([.1385,.1471,.1244,.1267,.1292])\n",
    "\n",
    "\n",
    "fc_training_accuracies = np.array([.9289,.9355,.9666,.9758,.9820])\n",
    "fc_validation_accuracies = np.array([.9290,.9504,.9566,.9552,.9549])\n",
    "fc_training_loss = np.array([.2446,.1326,.0996,.0747,.0589])\n",
    "fc_validation_loss = np.array([.1600,.1375,.1313,.1354,.1468])\n",
    "\n",
    "epochs = np.arange(start=1,stop=6)\n",
    "\n",
    "fig, (ax1, ax2) = plt.subplots(1,2,figsize=(20,5))\n",
    "ax1.set_title(\"Accuracy\")\n",
    "ax1.plot(epochs,lstm_training_accuracies,label=\"lstm training acc\")\n",
    "ax1.plot(epochs,fc_training_accuracies,label=\"fc training acc\")\n",
    "ax1.plot(epochs,lstm_validation_accuracies,label=\"lstm validation acc\")\n",
    "ax1.plot(epochs,fc_validation_accuracies,label=\"fc validation acc\")\n",
    "ax1.legend(loc=\"lower right\")\n",
    "ax1.set_xlabel('epoch')\n",
    "ax1.set_ylabel('accuracy')\n",
    "ax1.set_xticks(np.arange(start=1,stop=6,step=1))\n",
    "\n",
    "\n",
    "ax2.set_title(\"Loss\")\n",
    "ax2.plot(epochs,lstm_training_loss,label=\"lstm training loss\")\n",
    "ax2.plot(epochs,fc_training_loss,label=\"fc training loss\")\n",
    "ax2.plot(epochs,lstm_validation_loss,label=\"lstm validation loss\")\n",
    "ax2.plot(epochs,fc_validation_loss,label=\"fc validation loss\")\n",
    "ax2.legend(loc=\"lower right\")\n",
    "ax2.set_xlabel('epoch')\n",
    "ax2.set_ylabel('loss')\n",
    "ax2.set_xticks(np.arange(start=1,stop=6,step=1))\n",
    "\n",
    "\n",
    "plt.show()"
   ]
  },
  {
   "cell_type": "code",
   "execution_count": 73,
   "metadata": {},
   "outputs": [
    {
     "data": {
      "image/png": "[encoded data removed]",
      "text/plain": [
       "<Figure size 1440x360 with 2 Axes>"
      ]
     },
     "metadata": {
      "needs_background": "light"
     },
     "output_type": "display_data"
    }
   ],
   "source": [
    "## training and validation loss for base models with hashtags and non-hashtags treated as same embeding\n",
    "\n",
    "\n",
    "lstm_no_hashtags_training_accuracies = np.array([.9307,.9569,.9664,.9683,.9718])\n",
    "lstm_no_hashtags_validation_accuracies = np.array([.9439,.9553,.9565,.9562,.9751])\n",
    "\n",
    "fc_no_hashtags_training_accuracies = np.array([0.9259,0.9339,0.9629,0.9738,0.9797])\n",
    "fc_no_hashtags_validation_accuracies = np.array([0.9290,0.9524,0.9560,0.9567,0.9556])\n",
    "\n",
    "epochs = np.arange(start=1,stop=6)\n",
    "\n",
    "fig, (ax1, ax2) = plt.subplots(1,2,figsize=(20,5))\n",
    "ax1.set_title(\"LSTM Accuracies (Hashtags v No Hashtags)\")\n",
    "ax1.plot(epochs,lstm_training_accuracies,label=\"lstm training acc (hashtags)\")\n",
    "ax1.plot(epochs,lstm_validation_accuracies,label=\"lstm validation acc (hashtags)\")\n",
    "ax1.plot(epochs,lstm_no_hashtags_training_accuracies,label=\"lstm training acc \")\n",
    "ax1.plot(epochs,lstm_no_hashtags_validation_accuracies,label=\"lstm validation acc\")\n",
    "ax1.legend(loc=\"lower right\")\n",
    "ax1.set_xlabel('epoch')\n",
    "ax1.set_ylabel('accuracy')\n",
    "ax1.set_xticks(np.arange(start=1,stop=6,step=1))\n",
    "\n",
    "\n",
    "ax2.set_title(\"FC Accuracies (Hashtags v No Hashtags)\")\n",
    "ax2.plot(epochs,fc_training_accuracies,label=\"fc training acc (hashtags)\")\n",
    "ax2.plot(epochs,fc_validation_accuracies,label=\"fc validation acc (hashtags)\")\n",
    "ax2.plot(epochs,fc_no_hashtags_training_accuracies,label=\"fc training acc\")\n",
    "ax2.plot(epochs,fc_no_hashtags_validation_accuracies,label=\"fc validation acc\")\n",
    "ax2.legend(loc=\"lower right\")\n",
    "ax2.set_xlabel('epoch')\n",
    "ax2.set_ylabel('accuracy')\n",
    "ax2.set_xticks(np.arange(start=1,stop=6,step=1))\n",
    "\n",
    "\n",
    "plt.show()"
   ]
  },
  {
   "cell_type": "markdown",
   "metadata": {},
   "source": [
    "## Hyperparam tuning ##"
   ]
  },
  {
   "cell_type": "markdown",
   "metadata": {},
   "source": [
    "### Batch Size ###"
   ]
  },
  {
   "cell_type": "code",
   "execution_count": 89,
   "metadata": {},
   "outputs": [
    {
     "name": "stdout",
     "output_type": "stream",
     "text": [
      "WARNING:tensorflow:Layer lstm_8 will not use cuDNN kernel since it doesn't meet the cuDNN kernel criteria. It will use generic GPU kernel as fallback when running on GPU\n",
      "Epoch 1/5\n",
      "240/240 [==============================] - 28s 118ms/step - loss: 0.2300 - accuracy: 0.9335 - val_loss: 0.1318 - val_accuracy: 0.9507\n",
      "Epoch 2/5\n",
      "240/240 [==============================] - 28s 118ms/step - loss: 0.1132 - accuracy: 0.9601 - val_loss: 0.1266 - val_accuracy: 0.9546\n",
      "Epoch 3/5\n",
      "240/240 [==============================] - 29s 120ms/step - loss: 0.0941 - accuracy: 0.9673 - val_loss: 0.1229 - val_accuracy: 0.9566\n",
      "Epoch 4/5\n",
      "240/240 [==============================] - 28s 118ms/step - loss: 0.0838 - accuracy: 0.9703 - val_loss: 0.1311 - val_accuracy: 0.9570\n",
      "Epoch 5/5\n",
      "240/240 [==============================] - 28s 118ms/step - loss: 0.0773 - accuracy: 0.9730 - val_loss: 0.1297 - val_accuracy: 0.9566\n"
     ]
    }
   ],
   "source": [
    "lstm_model = Sequential()\n",
    "lstm_model.add(Embedding(vocab_size, embedding_vector_length,     \n",
    "                                     input_length=42) )\n",
    "lstm_model.add(Dropout(0.20))\n",
    "lstm_model.add(LSTM(75, dropout=0.5, recurrent_dropout=0.5))\n",
    "lstm_model.add(Dropout(0.10))\n",
    "lstm_model.add(Dense(1, activation='sigmoid'))\n",
    "lstm_model.compile(loss='binary_crossentropy',optimizer='adam', \n",
    "                           metrics=['accuracy'])\n",
    "history = lstm_model.fit(padded_seqs,sentiment_label[0],\n",
    "                  validation_split=0.25, epochs=5, batch_size=100)"
   ]
  },
  {
   "cell_type": "code",
   "execution_count": 90,
   "metadata": {},
   "outputs": [
    {
     "name": "stdout",
     "output_type": "stream",
     "text": [
      "WARNING:tensorflow:Layer lstm_9 will not use cuDNN kernel since it doesn't meet the cuDNN kernel criteria. It will use generic GPU kernel as fallback when running on GPU\n",
      "Epoch 1/5\n",
      "80/80 [==============================] - 10s 120ms/step - loss: 0.3048 - accuracy: 0.9265 - val_loss: 0.2497 - val_accuracy: 0.9290\n",
      "Epoch 2/5\n",
      "80/80 [==============================] - 9s 117ms/step - loss: 0.2115 - accuracy: 0.9323 - val_loss: 0.1563 - val_accuracy: 0.9417\n",
      "Epoch 3/5\n",
      "80/80 [==============================] - 10s 119ms/step - loss: 0.1176 - accuracy: 0.9572 - val_loss: 0.1352 - val_accuracy: 0.9518\n",
      "Epoch 4/5\n",
      "80/80 [==============================] - 9s 117ms/step - loss: 0.0953 - accuracy: 0.9657 - val_loss: 0.1250 - val_accuracy: 0.9565\n",
      "Epoch 5/5\n",
      "80/80 [==============================] - 9s 118ms/step - loss: 0.0835 - accuracy: 0.9706 - val_loss: 0.1276 - val_accuracy: 0.9566\n"
     ]
    }
   ],
   "source": [
    "lstm_model = Sequential()\n",
    "lstm_model.add(Embedding(vocab_size, embedding_vector_length,     \n",
    "                                     input_length=42) )\n",
    "lstm_model.add(Dropout(0.20))\n",
    "lstm_model.add(LSTM(75, dropout=0.5, recurrent_dropout=0.5))\n",
    "lstm_model.add(Dropout(0.10))\n",
    "lstm_model.add(Dense(1, activation='sigmoid'))\n",
    "lstm_model.compile(loss='binary_crossentropy',optimizer='adam', \n",
    "                           metrics=['accuracy'])\n",
    "history = lstm_model.fit(padded_seqs,sentiment_label[0],\n",
    "                  validation_split=0.25, epochs=5, batch_size=300)"
   ]
  },
  {
   "cell_type": "code",
   "execution_count": 91,
   "metadata": {},
   "outputs": [
    {
     "name": "stdout",
     "output_type": "stream",
     "text": [
      "WARNING:tensorflow:Layer lstm_10 will not use cuDNN kernel since it doesn't meet the cuDNN kernel criteria. It will use generic GPU kernel as fallback when running on GPU\n",
      "Epoch 1/5\n",
      "48/48 [==============================] - 6s 125ms/step - loss: 0.3550 - accuracy: 0.9209 - val_loss: 0.2538 - val_accuracy: 0.9290\n",
      "Epoch 2/5\n",
      "48/48 [==============================] - 6s 119ms/step - loss: 0.2427 - accuracy: 0.9301 - val_loss: 0.2245 - val_accuracy: 0.9290\n",
      "Epoch 3/5\n",
      "48/48 [==============================] - 6s 119ms/step - loss: 0.1688 - accuracy: 0.9400 - val_loss: 0.1442 - val_accuracy: 0.9463\n",
      "Epoch 4/5\n",
      "48/48 [==============================] - 6s 119ms/step - loss: 0.1089 - accuracy: 0.9600 - val_loss: 0.1235 - val_accuracy: 0.9536\n",
      "Epoch 5/5\n",
      "48/48 [==============================] - 6s 118ms/step - loss: 0.0930 - accuracy: 0.9673 - val_loss: 0.1331 - val_accuracy: 0.9546\n"
     ]
    }
   ],
   "source": [
    "lstm_model = Sequential()\n",
    "lstm_model.add(Embedding(vocab_size, embedding_vector_length,     \n",
    "                                     input_length=42) )\n",
    "lstm_model.add(Dropout(0.20))\n",
    "lstm_model.add(LSTM(75, dropout=0.5, recurrent_dropout=0.5))\n",
    "lstm_model.add(Dropout(0.10))\n",
    "lstm_model.add(Dense(1, activation='sigmoid'))\n",
    "lstm_model.compile(loss='binary_crossentropy',optimizer='adam', \n",
    "                           metrics=['accuracy'])\n",
    "history = lstm_model.fit(padded_seqs,sentiment_label[0],\n",
    "                  validation_split=0.25, epochs=5, batch_size=500)"
   ]
  },
  {
   "cell_type": "code",
   "execution_count": 92,
   "metadata": {},
   "outputs": [
    {
     "name": "stdout",
     "output_type": "stream",
     "text": [
      "WARNING:tensorflow:Layer lstm_11 will not use cuDNN kernel since it doesn't meet the cuDNN kernel criteria. It will use generic GPU kernel as fallback when running on GPU\n",
      "Epoch 1/5\n",
      "35/35 [==============================] - 4s 125ms/step - loss: 0.4039 - accuracy: 0.9074 - val_loss: 0.2579 - val_accuracy: 0.9290\n",
      "Epoch 2/5\n",
      "35/35 [==============================] - 4s 120ms/step - loss: 0.2501 - accuracy: 0.9301 - val_loss: 0.2458 - val_accuracy: 0.9290\n",
      "Epoch 3/5\n",
      "35/35 [==============================] - 4s 122ms/step - loss: 0.2307 - accuracy: 0.9301 - val_loss: 0.2089 - val_accuracy: 0.9290\n",
      "Epoch 4/5\n",
      "35/35 [==============================] - 4s 120ms/step - loss: 0.1653 - accuracy: 0.9385 - val_loss: 0.1359 - val_accuracy: 0.9492\n",
      "Epoch 5/5\n",
      "35/35 [==============================] - 4s 121ms/step - loss: 0.1140 - accuracy: 0.9580 - val_loss: 0.1245 - val_accuracy: 0.9528\n"
     ]
    }
   ],
   "source": [
    "lstm_model = Sequential()\n",
    "lstm_model.add(Embedding(vocab_size, embedding_vector_length,     \n",
    "                                     input_length=42) )\n",
    "lstm_model.add(Dropout(0.20))\n",
    "lstm_model.add(LSTM(75, dropout=0.5, recurrent_dropout=0.5))\n",
    "lstm_model.add(Dropout(0.10))\n",
    "lstm_model.add(Dense(1, activation='sigmoid'))\n",
    "lstm_model.compile(loss='binary_crossentropy',optimizer='adam', \n",
    "                           metrics=['accuracy'])\n",
    "history = lstm_model.fit(padded_seqs,sentiment_label[0],\n",
    "                  validation_split=0.25, epochs=5, batch_size=700)"
   ]
  },
  {
   "cell_type": "code",
   "execution_count": 98,
   "metadata": {},
   "outputs": [
    {
     "data": {
      "image/png": "[encoded data removed]",
      "text/plain": [
       "<Figure size 720x360 with 1 Axes>"
      ]
     },
     "metadata": {
      "needs_background": "light"
     },
     "output_type": "display_data"
    }
   ],
   "source": [
    "## validation loss changing batch size ##\n",
    "\n",
    "lstm_batch_one = np.array([.9507,.9564,.9566,.9570,.9566])\n",
    "lstm_batch_three = np.array([.9290,.9417,.9518,.9565,.9566])\n",
    "lstm_batch_five = np.array([.9290,.9290,.9463,.9536,.9546])\n",
    "lstm_batch_seven = np.array([.9290,.9290,.9290,.9492,.9528])\n",
    "\n",
    "epochs = np.arange(start=1,stop=6)\n",
    "\n",
    "fig, (ax1) = plt.subplots(1,1,figsize=(10,5))\n",
    "ax1.set_title(\"LSTM Validation Accuracies by Batch Size\")\n",
    "ax1.plot(epochs,lstm_batch_one,label=\"100\")\n",
    "ax1.plot(epochs,lstm_batch_three,label=\"300\")\n",
    "ax1.plot(epochs,lstm_batch_five,label=\"500\")\n",
    "ax1.plot(epochs,lstm_batch_seven,label=\"700\")\n",
    "ax1.legend(loc=\"lower right\")\n",
    "ax1.set_xlabel('epoch')\n",
    "ax1.set_ylabel('accuracy')\n",
    "ax1.set_xticks(np.arange(start=1,stop=6,step=1))\n",
    "\n",
    "\n",
    "plt.show()"
   ]
  },
  {
   "cell_type": "markdown",
   "metadata": {},
   "source": [
    "## optimizer ## "
   ]
  },
  {
   "cell_type": "code",
   "execution_count": 100,
   "metadata": {},
   "outputs": [
    {
     "name": "stdout",
     "output_type": "stream",
     "text": [
      "WARNING:tensorflow:Layer lstm_12 will not use cuDNN kernel since it doesn't meet the cuDNN kernel criteria. It will use generic GPU kernel as fallback when running on GPU\n",
      "Epoch 1/5\n",
      "200/200 [==============================] - 24s 121ms/step - loss: 0.2632 - accuracy: 0.9281 - val_loss: 0.1515 - val_accuracy: 0.9446\n",
      "Epoch 2/5\n",
      "200/200 [==============================] - 24s 118ms/step - loss: 0.1214 - accuracy: 0.9578 - val_loss: 0.1222 - val_accuracy: 0.9557\n",
      "Epoch 3/5\n",
      "200/200 [==============================] - 24s 118ms/step - loss: 0.0958 - accuracy: 0.9664 - val_loss: 0.1224 - val_accuracy: 0.9558\n",
      "Epoch 4/5\n",
      "200/200 [==============================] - 24s 118ms/step - loss: 0.0855 - accuracy: 0.9699 - val_loss: 0.1290 - val_accuracy: 0.9557\n",
      "Epoch 5/5\n",
      "200/200 [==============================] - 24s 118ms/step - loss: 0.0785 - accuracy: 0.9721 - val_loss: 0.1412 - val_accuracy: 0.9565\n"
     ]
    }
   ],
   "source": [
    "lstm_model = Sequential()\n",
    "lstm_model.add(Embedding(vocab_size, embedding_vector_length,     \n",
    "                                     input_length=42) )\n",
    "lstm_model.add(Dropout(0.20))\n",
    "lstm_model.add(LSTM(75, dropout=0.5, recurrent_dropout=0.5))\n",
    "lstm_model.add(Dropout(0.10))\n",
    "lstm_model.add(Dense(1, activation='sigmoid'))\n",
    "lstm_model.compile(loss='binary_crossentropy',optimizer='adam', \n",
    "                           metrics=['accuracy'])\n",
    "history = lstm_model.fit(padded_seqs,sentiment_label[0],\n",
    "                  validation_split=0.25, epochs=5, batch_size=120)"
   ]
  },
  {
   "cell_type": "code",
   "execution_count": 101,
   "metadata": {},
   "outputs": [
    {
     "name": "stdout",
     "output_type": "stream",
     "text": [
      "WARNING:tensorflow:Layer lstm_13 will not use cuDNN kernel since it doesn't meet the cuDNN kernel criteria. It will use generic GPU kernel as fallback when running on GPU\n",
      "Epoch 1/5\n",
      "200/200 [==============================] - 24s 119ms/step - loss: 0.3721 - accuracy: 0.9284 - val_loss: 0.2595 - val_accuracy: 0.9290\n",
      "Epoch 2/5\n",
      "200/200 [==============================] - 24s 119ms/step - loss: 0.2551 - accuracy: 0.9301 - val_loss: 0.2560 - val_accuracy: 0.9290\n",
      "Epoch 3/5\n",
      "200/200 [==============================] - 24s 120ms/step - loss: 0.2540 - accuracy: 0.9301 - val_loss: 0.2562 - val_accuracy: 0.9290\n",
      "Epoch 4/5\n",
      "200/200 [==============================] - 24s 119ms/step - loss: 0.2540 - accuracy: 0.9301 - val_loss: 0.2562 - val_accuracy: 0.9290\n",
      "Epoch 5/5\n",
      "200/200 [==============================] - 24s 121ms/step - loss: 0.2539 - accuracy: 0.9301 - val_loss: 0.2564 - val_accuracy: 0.9290\n"
     ]
    }
   ],
   "source": [
    "lstm_model = Sequential()\n",
    "lstm_model.add(Embedding(vocab_size, embedding_vector_length,     \n",
    "                                     input_length=42) )\n",
    "lstm_model.add(Dropout(0.20))\n",
    "lstm_model.add(LSTM(75, dropout=0.5, recurrent_dropout=0.5))\n",
    "lstm_model.add(Dropout(0.10))\n",
    "lstm_model.add(Dense(1, activation='sigmoid'))\n",
    "lstm_model.compile(loss='binary_crossentropy',optimizer='sgd', \n",
    "                           metrics=['accuracy'])\n",
    "history = lstm_model.fit(padded_seqs,sentiment_label[0],\n",
    "                  validation_split=0.25, epochs=5, batch_size=120)"
   ]
  },
  {
   "cell_type": "code",
   "execution_count": 102,
   "metadata": {},
   "outputs": [
    {
     "name": "stdout",
     "output_type": "stream",
     "text": [
      "WARNING:tensorflow:Layer lstm_14 will not use cuDNN kernel since it doesn't meet the cuDNN kernel criteria. It will use generic GPU kernel as fallback when running on GPU\n",
      "Epoch 1/5\n",
      "200/200 [==============================] - 24s 118ms/step - loss: 0.2808 - accuracy: 0.9292 - val_loss: 0.2574 - val_accuracy: 0.9290\n",
      "Epoch 2/5\n",
      "200/200 [==============================] - 24s 119ms/step - loss: 0.2525 - accuracy: 0.9301 - val_loss: 0.2544 - val_accuracy: 0.9290\n",
      "Epoch 3/5\n",
      "200/200 [==============================] - 23s 117ms/step - loss: 0.2505 - accuracy: 0.9301 - val_loss: 0.2527 - val_accuracy: 0.9290\n",
      "Epoch 4/5\n",
      "200/200 [==============================] - 24s 119ms/step - loss: 0.2469 - accuracy: 0.9301 - val_loss: 0.2508 - val_accuracy: 0.9290\n",
      "Epoch 5/5\n",
      "200/200 [==============================] - 24s 119ms/step - loss: 0.2432 - accuracy: 0.9301 - val_loss: 0.2451 - val_accuracy: 0.9290\n"
     ]
    }
   ],
   "source": [
    "lstm_model = Sequential()\n",
    "lstm_model.add(Embedding(vocab_size, embedding_vector_length,     \n",
    "                                     input_length=42) )\n",
    "lstm_model.add(Dropout(0.20))\n",
    "lstm_model.add(LSTM(75, dropout=0.5, recurrent_dropout=0.5))\n",
    "lstm_model.add(Dropout(0.10))\n",
    "lstm_model.add(Dense(1, activation='sigmoid'))\n",
    "lstm_model.compile(loss='binary_crossentropy',optimizer='adagrad', \n",
    "                           metrics=['accuracy'])\n",
    "history = lstm_model.fit(padded_seqs,sentiment_label[0],\n",
    "                  validation_split=0.25, epochs=5, batch_size=120)"
   ]
  },
  {
   "cell_type": "code",
   "execution_count": 103,
   "metadata": {},
   "outputs": [
    {
     "name": "stdout",
     "output_type": "stream",
     "text": [
      "WARNING:tensorflow:Layer lstm_15 will not use cuDNN kernel since it doesn't meet the cuDNN kernel criteria. It will use generic GPU kernel as fallback when running on GPU\n",
      "Epoch 1/5\n",
      "200/200 [==============================] - 24s 121ms/step - loss: 0.6911 - accuracy: 0.6487 - val_loss: 0.6899 - val_accuracy: 0.8372\n",
      "Epoch 2/5\n",
      "200/200 [==============================] - 23s 117ms/step - loss: 0.6888 - accuracy: 0.7721 - val_loss: 0.6875 - val_accuracy: 0.9099\n",
      "Epoch 3/5\n",
      "200/200 [==============================] - 23s 115ms/step - loss: 0.6862 - accuracy: 0.8653 - val_loss: 0.6848 - val_accuracy: 0.9272\n",
      "Epoch 4/5\n",
      "200/200 [==============================] - 23s 117ms/step - loss: 0.6834 - accuracy: 0.9088 - val_loss: 0.6819 - val_accuracy: 0.9289\n",
      "Epoch 5/5\n",
      "200/200 [==============================] - 23s 115ms/step - loss: 0.6803 - accuracy: 0.9248 - val_loss: 0.6786 - val_accuracy: 0.9290\n"
     ]
    }
   ],
   "source": [
    "lstm_model = Sequential()\n",
    "lstm_model.add(Embedding(vocab_size, embedding_vector_length,     \n",
    "                                     input_length=42) )\n",
    "lstm_model.add(Dropout(0.20))\n",
    "lstm_model.add(LSTM(75, dropout=0.5, recurrent_dropout=0.5))\n",
    "lstm_model.add(Dropout(0.10))\n",
    "lstm_model.add(Dense(1, activation='sigmoid'))\n",
    "lstm_model.compile(loss='binary_crossentropy',optimizer='adadelta', \n",
    "                           metrics=['accuracy'])\n",
    "history = lstm_model.fit(padded_seqs,sentiment_label[0],\n",
    "                  validation_split=0.25, epochs=5, batch_size=120)"
   ]
  },
  {
   "cell_type": "code",
   "execution_count": 109,
   "metadata": {},
   "outputs": [
    {
     "data": {
      "image/png": "[encoded data removed]",
      "text/plain": [
       "<Figure size 504x360 with 1 Axes>"
      ]
     },
     "metadata": {
      "needs_background": "light"
     },
     "output_type": "display_data"
    }
   ],
   "source": [
    "## validation acc changing optimizer ##\n",
    "\n",
    "lstm_batch_adam = np.array([0.9446,0.9557,0.9558,0.9557,0.9565])\n",
    "lstm_batch_sgd = np.array([.9290,.9290,.9290,.9290,.9290])\n",
    "lstm_batch_adagrad = np.array([.9290,.9290,.9290,.9290,.9290])\n",
    "lstm_batch_adadelta = np.array([.8372,.9099,.9272,.9289,.9290])\n",
    "\n",
    "epochs = np.arange(start=1,stop=6)\n",
    "\n",
    "fig, (ax1) = plt.subplots(1,1,figsize=(7,5))\n",
    "ax1.set_title(\"LSTM Validation Accuracies by Optimizer\")\n",
    "ax1.plot(epochs,lstm_batch_adam,label=\"adam\")\n",
    "ax1.plot(epochs,lstm_batch_sgd,label=\"sgd\")\n",
    "ax1.plot(epochs,lstm_batch_adadelta,label=\"adaDelta\")\n",
    "ax1.legend(loc=\"lower right\")\n",
    "ax1.set_xlabel('epoch')\n",
    "ax1.set_ylabel('accuracy')\n",
    "ax1.set_xticks(np.arange(start=1,stop=6,step=1))\n",
    "\n",
    "\n",
    "plt.show()"
   ]
  },
  {
   "cell_type": "markdown",
   "metadata": {},
   "source": [
    "## Dropout rates ##"
   ]
  },
  {
   "cell_type": "code",
   "execution_count": 111,
   "metadata": {},
   "outputs": [
    {
     "name": "stdout",
     "output_type": "stream",
     "text": [
      "WARNING:tensorflow:Layer lstm_17 will not use cuDNN kernel since it doesn't meet the cuDNN kernel criteria. It will use generic GPU kernel as fallback when running on GPU\n",
      "Epoch 1/5\n",
      "200/200 [==============================] - 24s 118ms/step - loss: 0.2459 - accuracy: 0.9302 - val_loss: 0.1490 - val_accuracy: 0.9501\n",
      "Epoch 2/5\n",
      "200/200 [==============================] - 24s 118ms/step - loss: 0.1156 - accuracy: 0.9590 - val_loss: 0.1257 - val_accuracy: 0.9553\n",
      "Epoch 3/5\n",
      "200/200 [==============================] - 24s 120ms/step - loss: 0.0934 - accuracy: 0.9668 - val_loss: 0.1245 - val_accuracy: 0.9566\n",
      "Epoch 4/5\n",
      "200/200 [==============================] - 24s 118ms/step - loss: 0.0834 - accuracy: 0.9702 - val_loss: 0.1282 - val_accuracy: 0.9577\n",
      "Epoch 5/5\n",
      "200/200 [==============================] - 24s 118ms/step - loss: 0.0758 - accuracy: 0.9732 - val_loss: 0.1349 - val_accuracy: 0.9565\n"
     ]
    }
   ],
   "source": [
    "lstm_model = Sequential()\n",
    "lstm_model.add(Embedding(vocab_size, embedding_vector_length,     \n",
    "                                     input_length=42) )\n",
    "lstm_model.add(Dropout(0.10))\n",
    "lstm_model.add(LSTM(75, dropout=0.5, recurrent_dropout=0.5))\n",
    "lstm_model.add(Dropout(0.05))\n",
    "lstm_model.add(Dense(1, activation='sigmoid'))\n",
    "lstm_model.compile(loss='binary_crossentropy',optimizer='adam', \n",
    "                           metrics=['accuracy'])\n",
    "history = lstm_model.fit(padded_seqs,sentiment_label[0],\n",
    "                  validation_split=0.25, epochs=5, batch_size=120)"
   ]
  },
  {
   "cell_type": "code",
   "execution_count": 112,
   "metadata": {},
   "outputs": [
    {
     "name": "stdout",
     "output_type": "stream",
     "text": [
      "WARNING:tensorflow:Layer lstm_18 will not use cuDNN kernel since it doesn't meet the cuDNN kernel criteria. It will use generic GPU kernel as fallback when running on GPU\n",
      "Epoch 1/5\n",
      "200/200 [==============================] - 24s 119ms/step - loss: 0.2563 - accuracy: 0.9290 - val_loss: 0.1447 - val_accuracy: 0.9447\n",
      "Epoch 2/5\n",
      "200/200 [==============================] - 24s 118ms/step - loss: 0.1208 - accuracy: 0.9563 - val_loss: 0.1229 - val_accuracy: 0.9548\n",
      "Epoch 3/5\n",
      "200/200 [==============================] - 23s 117ms/step - loss: 0.0942 - accuracy: 0.9665 - val_loss: 0.1287 - val_accuracy: 0.9570\n",
      "Epoch 4/5\n",
      "200/200 [==============================] - 24s 120ms/step - loss: 0.0847 - accuracy: 0.9700 - val_loss: 0.1269 - val_accuracy: 0.9565\n",
      "Epoch 5/5\n",
      "200/200 [==============================] - 24s 118ms/step - loss: 0.0765 - accuracy: 0.9726 - val_loss: 0.1334 - val_accuracy: 0.9551\n"
     ]
    }
   ],
   "source": [
    "lstm_model = Sequential()\n",
    "lstm_model.add(Embedding(vocab_size, embedding_vector_length,     \n",
    "                                     input_length=42) )\n",
    "lstm_model.add(Dropout(0.15))\n",
    "lstm_model.add(LSTM(75, dropout=0.5, recurrent_dropout=0.5))\n",
    "lstm_model.add(Dropout(0.10))\n",
    "lstm_model.add(Dense(1, activation='sigmoid'))\n",
    "lstm_model.compile(loss='binary_crossentropy',optimizer='adam', \n",
    "                           metrics=['accuracy'])\n",
    "history = lstm_model.fit(padded_seqs,sentiment_label[0],\n",
    "                  validation_split=0.25, epochs=5, batch_size=120)"
   ]
  },
  {
   "cell_type": "code",
   "execution_count": 113,
   "metadata": {},
   "outputs": [
    {
     "name": "stdout",
     "output_type": "stream",
     "text": [
      "WARNING:tensorflow:Layer lstm_19 will not use cuDNN kernel since it doesn't meet the cuDNN kernel criteria. It will use generic GPU kernel as fallback when running on GPU\n",
      "Epoch 1/5\n",
      "200/200 [==============================] - 24s 119ms/step - loss: 0.2439 - accuracy: 0.9319 - val_loss: 0.1402 - val_accuracy: 0.9454\n",
      "Epoch 2/5\n",
      "200/200 [==============================] - 24s 118ms/step - loss: 0.1174 - accuracy: 0.9580 - val_loss: 0.1242 - val_accuracy: 0.9553\n",
      "Epoch 3/5\n",
      "200/200 [==============================] - 24s 118ms/step - loss: 0.0963 - accuracy: 0.9661 - val_loss: 0.1259 - val_accuracy: 0.9571\n",
      "Epoch 4/5\n",
      "200/200 [==============================] - 24s 119ms/step - loss: 0.0878 - accuracy: 0.9683 - val_loss: 0.1304 - val_accuracy: 0.9572\n",
      "Epoch 5/5\n",
      "200/200 [==============================] - 23s 117ms/step - loss: 0.0802 - accuracy: 0.9717 - val_loss: 0.1326 - val_accuracy: 0.9561\n"
     ]
    }
   ],
   "source": [
    "lstm_model = Sequential()\n",
    "lstm_model.add(Embedding(vocab_size, embedding_vector_length,     \n",
    "                                     input_length=42) )\n",
    "lstm_model.add(Dropout(0.25))\n",
    "lstm_model.add(LSTM(75, dropout=0.5, recurrent_dropout=0.5))\n",
    "lstm_model.add(Dropout(0.15))\n",
    "lstm_model.add(Dense(1, activation='sigmoid'))\n",
    "lstm_model.compile(loss='binary_crossentropy',optimizer='adam', \n",
    "                           metrics=['accuracy'])\n",
    "history = lstm_model.fit(padded_seqs,sentiment_label[0],\n",
    "                  validation_split=0.25, epochs=5, batch_size=120)"
   ]
  },
  {
   "cell_type": "code",
   "execution_count": 117,
   "metadata": {},
   "outputs": [
    {
     "name": "stdout",
     "output_type": "stream",
     "text": [
      "WARNING:tensorflow:Layer lstm_22 will not use cuDNN kernel since it doesn't meet the cuDNN kernel criteria. It will use generic GPU kernel as fallback when running on GPU\n",
      "Epoch 1/5\n",
      "200/200 [==============================] - 23s 117ms/step - loss: 0.2586 - accuracy: 0.9292 - val_loss: 0.1532 - val_accuracy: 0.9428\n",
      "Epoch 2/5\n",
      "200/200 [==============================] - 23s 117ms/step - loss: 0.1254 - accuracy: 0.9559 - val_loss: 0.1253 - val_accuracy: 0.9541\n",
      "Epoch 3/5\n",
      "200/200 [==============================] - 24s 118ms/step - loss: 0.1040 - accuracy: 0.9639 - val_loss: 0.1226 - val_accuracy: 0.9567\n",
      "Epoch 4/5\n",
      "200/200 [==============================] - 24s 118ms/step - loss: 0.0937 - accuracy: 0.9665 - val_loss: 0.1251 - val_accuracy: 0.9570\n",
      "Epoch 5/5\n",
      "200/200 [==============================] - 24s 118ms/step - loss: 0.0863 - accuracy: 0.9698 - val_loss: 0.1288 - val_accuracy: 0.9572\n"
     ]
    }
   ],
   "source": [
    "lstm_model = Sequential()\n",
    "lstm_model.add(Embedding(vocab_size, embedding_vector_length,     \n",
    "                                     input_length=42) )\n",
    "lstm_model.add(Dropout(0.5))\n",
    "lstm_model.add(LSTM(75, dropout=0.5, recurrent_dropout=0.5))\n",
    "lstm_model.add(Dropout(0.5))\n",
    "lstm_model.add(Dense(1, activation='sigmoid'))\n",
    "lstm_model.compile(loss='binary_crossentropy',optimizer='adam', \n",
    "                           metrics=['accuracy'])\n",
    "history = lstm_model.fit(padded_seqs,sentiment_label[0],\n",
    "                  validation_split=0.25, epochs=5, batch_size=120)"
   ]
  },
  {
   "cell_type": "code",
   "execution_count": 126,
   "metadata": {},
   "outputs": [
    {
     "data": {
      "image/png": "[encoded data removed]",
      "text/plain": [
       "<Figure size 504x360 with 1 Axes>"
      ]
     },
     "metadata": {
      "needs_background": "light"
     },
     "output_type": "display_data"
    }
   ],
   "source": [
    "## validation loss changing dropout rates ##\n",
    "\n",
    "lstm_batch_1= np.array([0.9501,0.9553,0.9566,0.9577,0.9565])\n",
    "lstm_batch_2 = np.array([.9447,.9548,.9570,.9565,.9551])\n",
    "lstm_batch_3 = np.array([.9454,.9553,.9571,.9572,.9561])\n",
    "lstm_batch_4 = np.array([.9428,.9541,.9567,.9570,.9572])\n",
    "\n",
    "epochs = np.arange(start=1,stop=6)\n",
    "\n",
    "fig, (ax1) = plt.subplots(1,1,figsize=(7,5))\n",
    "ax1.set_title(\"LSTM Validation Accuracies by Dropout rates (layer1,layer2)\")\n",
    "ax1.plot(epochs,lstm_batch_1,label=\"(.10,.5)\")\n",
    "ax1.plot(epochs,lstm_batch_2,label=\"(.15,.10)\")\n",
    "ax1.plot(epochs,lstm_batch_3,label=\"(.25,.15)\")\n",
    "ax1.plot(epochs,lstm_batch_4,label=\"(.35,.50)\")\n",
    "ax1.legend(loc=\"lower right\")\n",
    "ax1.set_xlabel('epoch')\n",
    "ax1.set_ylabel('accuracy')\n",
    "ax1.set_xticks(np.arange(start=1,stop=6,step=1))\n",
    "\n",
    "\n",
    "plt.show()"
   ]
  },
  {
   "cell_type": "code",
   "execution_count": null,
   "metadata": {},
   "outputs": [],
   "source": []
  }
 ],
 "metadata": {
  "kernelspec": {
   "display_name": "pythonthreesix",
   "language": "python",
   "name": "pythonthreesix"
  },
  "language_info": {
   "codemirror_mode": {
    "name": "ipython",
    "version": 3
   },
   "file_extension": ".py",
   "mimetype": "text/x-python",
   "name": "python",
   "nbconvert_exporter": "python",
   "pygments_lexer": "ipython3",
   "version": "3.6.10"
  }
 },
 "nbformat": 4,
 "nbformat_minor": 2
}
